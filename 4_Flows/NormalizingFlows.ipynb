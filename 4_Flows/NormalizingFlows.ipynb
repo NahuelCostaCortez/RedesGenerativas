{
 "cells": [
  {
   "cell_type": "markdown",
   "metadata": {},
   "source": [
    "Desde la terminal:\n",
    "\n",
    "```bash\n",
    "pip install -r requirements.txt\n",
    "````"
   ]
  },
  {
   "cell_type": "markdown",
   "metadata": {},
   "source": [
    "*Cuaderno adaptado de [lightning.ai](https://lightning.ai/docs/pytorch/stable/notebooks/course_UvA-DL/09-normalizing-flows.html)*"
   ]
  },
  {
   "cell_type": "code",
   "execution_count": 1,
   "metadata": {},
   "outputs": [
    {
     "name": "stderr",
     "output_type": "stream",
     "text": [
      "Seed set to 42\n"
     ]
    },
    {
     "name": "stdout",
     "output_type": "stream",
     "text": [
      "Using device cpu\n"
     ]
    }
   ],
   "source": [
    "import math\n",
    "import os\n",
    "import time\n",
    "import urllib.request\n",
    "from urllib.error import HTTPError\n",
    "\n",
    "import matplotlib\n",
    "import matplotlib.pyplot as plt\n",
    "import matplotlib_inline.backend_inline\n",
    "import numpy as np\n",
    "import pytorch_lightning as pl\n",
    "import seaborn as sns\n",
    "import tabulate\n",
    "import torch\n",
    "import torch.nn as nn\n",
    "import torch.nn.functional as F\n",
    "import torch.optim as optim\n",
    "import torch.utils.data as data\n",
    "import torchvision\n",
    "from IPython.display import HTML, display\n",
    "from matplotlib.colors import to_rgb\n",
    "from pytorch_lightning.callbacks import LearningRateMonitor, ModelCheckpoint\n",
    "from torch import Tensor\n",
    "from torchvision import transforms\n",
    "from torchvision.datasets import MNIST\n",
    "from tqdm.notebook import tqdm\n",
    "\n",
    "%matplotlib inline\n",
    "matplotlib_inline.backend_inline.set_matplotlib_formats(\"svg\", \"pdf\")  # Para exportar\n",
    "matplotlib.rcParams[\"lines.linewidth\"] = 2.0\n",
    "sns.reset_orig()\n",
    "\n",
    "# Ruta a la carpeta donde se descargan/deberían descargarse los datasets\n",
    "DATASET_PATH = os.environ.get(\"PATH_DATASETS\", \"data\")\n",
    "# Ruta a la carpeta donde se guardan los modelos preentrenados\n",
    "CHECKPOINT_PATH = os.environ.get(\"PATH_CHECKPOINT\", \"modelos\")\n",
    "\n",
    "# Para reproducibilidad de los experimentos\n",
    "pl.seed_everything(42)\n",
    "\n",
    "# Para garantizar que todas las operaciones son deterministas en la GPU (si se utiliza) para reproducibilidad\n",
    "torch.backends.cudnn.deterministic = True\n",
    "torch.backends.cudnn.benchmark = False\n",
    "\n",
    "# Obtener el dispositivo que se utilizará a lo largo de este cuaderno\n",
    "device = torch.device(\"cpu\") if not torch.cuda.is_available() else torch.device(\"cuda:0\")\n",
    "print(\"Using device\", device)"
   ]
  },
  {
   "cell_type": "markdown",
   "metadata": {},
   "source": [
    "Descargar modelos pre-entrenados"
   ]
  },
  {
   "cell_type": "code",
   "execution_count": 2,
   "metadata": {},
   "outputs": [
    {
     "name": "stdout",
     "output_type": "stream",
     "text": [
      "Descargando https://raw.githubusercontent.com/phlippe/saved_models/main/tutorial11/MNISTFlow_simple.ckpt...\n",
      "Descargando https://raw.githubusercontent.com/phlippe/saved_models/main/tutorial11/MNISTFlow_vardeq.ckpt...\n",
      "Descargando https://raw.githubusercontent.com/phlippe/saved_models/main/tutorial11/MNISTFlow_multiscale.ckpt...\n"
     ]
    }
   ],
   "source": [
    "# URL de Github de donde descargar los modelos\n",
    "base_url = \"https://raw.githubusercontent.com/phlippe/saved_models/main/tutorial11/\"\n",
    "# Ficheros a descargar\n",
    "pretrained_files = [\"MNISTFlow_simple.ckpt\", \"MNISTFlow_vardeq.ckpt\", \"MNISTFlow_multiscale.ckpt\"]\n",
    "# Crear directorio checkpoint si aún no existe\n",
    "os.makedirs(CHECKPOINT_PATH, exist_ok=True)\n",
    "\n",
    "# Descargar cada archivo si es que no existe ya.\n",
    "for file_name in pretrained_files:\n",
    "    file_path = os.path.join(CHECKPOINT_PATH, file_name)\n",
    "    if not os.path.isfile(file_path):\n",
    "        file_url = base_url + file_name\n",
    "        print(f\"Descargando {file_url}...\")\n",
    "        try:\n",
    "            urllib.request.urlretrieve(file_url, file_path)\n",
    "        except HTTPError as e:\n",
    "            print(\n",
    "                \"Algo fue mal:\\n\",\n",
    "                e,\n",
    "            )"
   ]
  },
  {
   "cell_type": "markdown",
   "metadata": {},
   "source": [
    "### UTILS\n",
    "\n",
    "Funciones"
   ]
  },
  {
   "cell_type": "code",
   "execution_count": 3,
   "metadata": {},
   "outputs": [],
   "source": [
    "# Convertir a enteros\n",
    "def discretize(sample):\n",
    "    return (sample * 255).to(torch.int32)\n",
    "\n",
    "def show_imgs(imgs, title=None, row_size=4):\n",
    "    # Form a grid of pictures (we use max. 8 columns)\n",
    "    num_imgs = imgs.shape[0] if isinstance(imgs, Tensor) else len(imgs)\n",
    "    is_int = imgs.dtype == torch.int32 if isinstance(imgs, Tensor) else imgs[0].dtype == torch.int32\n",
    "    nrow = min(num_imgs, row_size)\n",
    "    ncol = int(math.ceil(num_imgs / nrow))\n",
    "    imgs = torchvision.utils.make_grid(imgs, nrow=nrow, pad_value=128 if is_int else 0.5)\n",
    "    np_imgs = imgs.cpu().numpy()\n",
    "    # Plot the grid\n",
    "    plt.figure(figsize=(1.5 * nrow, 1.5 * ncol))\n",
    "    plt.imshow(np.transpose(np_imgs, (1, 2, 0)), interpolation=\"nearest\")\n",
    "    plt.axis(\"off\")\n",
    "    if title is not None:\n",
    "        plt.title(title)\n",
    "    plt.show()\n",
    "    plt.close()\n",
    "\n",
    "def create_checkerboard_mask(h, w, invert=False):\n",
    "    x, y = torch.arange(h, dtype=torch.int32), torch.arange(w, dtype=torch.int32)\n",
    "    xx, yy = torch.meshgrid(x, y)\n",
    "    mask = torch.fmod(xx + yy, 2)\n",
    "    mask = mask.to(torch.float32).view(1, 1, h, w)\n",
    "    if invert:\n",
    "        mask = 1 - mask\n",
    "    return mask\n",
    "\n",
    "def create_channel_mask(c_in, invert=False):\n",
    "    mask = torch.cat([torch.ones(c_in // 2, dtype=torch.float32), torch.zeros(c_in - c_in // 2, dtype=torch.float32)])\n",
    "    mask = mask.view(1, c_in, 1, 1)\n",
    "    if invert:\n",
    "        mask = 1 - mask\n",
    "    return mask"
   ]
  },
  {
   "cell_type": "markdown",
   "metadata": {},
   "source": [
    "### DATASET"
   ]
  },
  {
   "cell_type": "markdown",
   "metadata": {},
   "source": [
    "Utilizaremos MNIST. A pesar de que es un dataset sencillo constituye un reto para modelos generativos explícitos ya que requiere la comprensión global de lo que es una imagen. Además, podemos juzgar fácilmente si las imágenes generadas proceden de la misma distribución que el conjunto de datos (es decir, representan dígitos reales), o no.\n",
    "\n",
    "Para tratar mejor la naturaleza discreta de las imágenes, las transformamos de un rango de 0-1 a un rango de 0-255 como números enteros."
   ]
  },
  {
   "cell_type": "code",
   "execution_count": 4,
   "metadata": {},
   "outputs": [
    {
     "name": "stdout",
     "output_type": "stream",
     "text": [
      "Downloading http://yann.lecun.com/exdb/mnist/train-images-idx3-ubyte.gz\n",
      "Failed to download (trying next):\n",
      "HTTP Error 403: Forbidden\n",
      "\n",
      "Downloading https://ossci-datasets.s3.amazonaws.com/mnist/train-images-idx3-ubyte.gz\n",
      "Downloading https://ossci-datasets.s3.amazonaws.com/mnist/train-images-idx3-ubyte.gz to data/MNIST/raw/train-images-idx3-ubyte.gz\n"
     ]
    },
    {
     "name": "stderr",
     "output_type": "stream",
     "text": [
      "100%|██████████| 9912422/9912422 [00:00<00:00, 127515254.78it/s]\n"
     ]
    },
    {
     "name": "stdout",
     "output_type": "stream",
     "text": [
      "Extracting data/MNIST/raw/train-images-idx3-ubyte.gz to data/MNIST/raw\n",
      "\n",
      "Downloading http://yann.lecun.com/exdb/mnist/train-labels-idx1-ubyte.gz\n",
      "Failed to download (trying next):\n",
      "HTTP Error 403: Forbidden\n",
      "\n",
      "Downloading https://ossci-datasets.s3.amazonaws.com/mnist/train-labels-idx1-ubyte.gz\n",
      "Downloading https://ossci-datasets.s3.amazonaws.com/mnist/train-labels-idx1-ubyte.gz to data/MNIST/raw/train-labels-idx1-ubyte.gz\n"
     ]
    },
    {
     "name": "stderr",
     "output_type": "stream",
     "text": [
      "100%|██████████| 28881/28881 [00:00<00:00, 21500833.12it/s]"
     ]
    },
    {
     "name": "stdout",
     "output_type": "stream",
     "text": [
      "Extracting data/MNIST/raw/train-labels-idx1-ubyte.gz to data/MNIST/raw\n",
      "\n",
      "Downloading http://yann.lecun.com/exdb/mnist/t10k-images-idx3-ubyte.gz\n"
     ]
    },
    {
     "name": "stderr",
     "output_type": "stream",
     "text": [
      "\n"
     ]
    },
    {
     "name": "stdout",
     "output_type": "stream",
     "text": [
      "Failed to download (trying next):\n",
      "HTTP Error 403: Forbidden\n",
      "\n",
      "Downloading https://ossci-datasets.s3.amazonaws.com/mnist/t10k-images-idx3-ubyte.gz\n",
      "Downloading https://ossci-datasets.s3.amazonaws.com/mnist/t10k-images-idx3-ubyte.gz to data/MNIST/raw/t10k-images-idx3-ubyte.gz\n"
     ]
    },
    {
     "name": "stderr",
     "output_type": "stream",
     "text": [
      "100%|██████████| 1648877/1648877 [00:00<00:00, 212502424.23it/s]\n"
     ]
    },
    {
     "name": "stdout",
     "output_type": "stream",
     "text": [
      "Extracting data/MNIST/raw/t10k-images-idx3-ubyte.gz to data/MNIST/raw\n",
      "\n",
      "Downloading http://yann.lecun.com/exdb/mnist/t10k-labels-idx1-ubyte.gz\n",
      "Failed to download (trying next):\n",
      "HTTP Error 403: Forbidden\n",
      "\n",
      "Downloading https://ossci-datasets.s3.amazonaws.com/mnist/t10k-labels-idx1-ubyte.gz\n",
      "Downloading https://ossci-datasets.s3.amazonaws.com/mnist/t10k-labels-idx1-ubyte.gz to data/MNIST/raw/t10k-labels-idx1-ubyte.gz\n"
     ]
    },
    {
     "name": "stderr",
     "output_type": "stream",
     "text": [
      "100%|██████████| 4542/4542 [00:00<00:00, 2839548.18it/s]\n"
     ]
    },
    {
     "name": "stdout",
     "output_type": "stream",
     "text": [
      "Extracting data/MNIST/raw/t10k-labels-idx1-ubyte.gz to data/MNIST/raw\n",
      "\n"
     ]
    },
    {
     "name": "stderr",
     "output_type": "stream",
     "text": [
      "Seed set to 42\n"
     ]
    }
   ],
   "source": [
    "# Transformaciones aplicadas a cada imagen => convertirlas en un tensor y discretizarlas\n",
    "transform = transforms.Compose([transforms.ToTensor(), discretize])\n",
    "\n",
    "# Carga del conjunto de datos de entrenamiento. Se divide en una parte de entrenamiento y otra de validación\n",
    "train_dataset = MNIST(root=DATASET_PATH, train=True, transform=transform, download=True)\n",
    "pl.seed_everything(42)\n",
    "train_set, val_set = torch.utils.data.random_split(train_dataset, [50000, 10000])\n",
    "\n",
    "# Carga del conjunto de test\n",
    "test_set = MNIST(root=DATASET_PATH, train=False, transform=transform, download=True)\n",
    "\n",
    "# Dataloaders que utilizaremos más adelante\n",
    "train_loader = data.DataLoader(train_set, batch_size=256, shuffle=False, drop_last=False)\n",
    "val_loader = data.DataLoader(val_set, batch_size=64, shuffle=False, drop_last=False, num_workers=4)\n",
    "test_loader = data.DataLoader(test_set, batch_size=64, shuffle=False, drop_last=False, num_workers=4)"
   ]
  },
  {
   "cell_type": "code",
   "execution_count": 5,
   "metadata": {},
   "outputs": [
    {
     "data": {
      "application/pdf": "[encoded data removed]",
      "image/svg+xml": [
       "<?xml version=\"1.0\" encoding=\"utf-8\" standalone=\"no\"?>\n",
       "<!DOCTYPE svg PUBLIC \"-//W3C//DTD SVG 1.1//EN\"\n",
       "  \"http://www.w3.org/Graphics/SVG/1.1/DTD/svg11.dtd\">\n",
       "<svg xmlns:xlink=\"http://www.w3.org/1999/xlink\" width=\"341.674839pt\" height=\"180.72pt\" viewBox=\"0 0 341.674839 180.72\" xmlns=\"http://www.w3.org/2000/svg\" version=\"1.1\">\n",
       " <metadata>\n",
       "  <rdf:RDF xmlns:dc=\"http://purl.org/dc/elements/1.1/\" xmlns:cc=\"http://creativecommons.org/ns#\" xmlns:rdf=\"http://www.w3.org/1999/02/22-rdf-syntax-ns#\">\n",
       "   <cc:Work>\n",
       "    <dc:type rdf:resource=\"http://purl.org/dc/dcmitype/StillImage\"/>\n",
       "    <dc:date>2024-10-05T19:18:25.284863</dc:date>\n",
       "    <dc:format>image/svg+xml</dc:format>\n",
       "    <dc:creator>\n",
       "     <cc:Agent>\n",
       "      <dc:title>Matplotlib v3.8.2, https://matplotlib.org/</dc:title>\n",
       "     </cc:Agent>\n",
       "    </dc:creator>\n",
       "   </cc:Work>\n",
       "  </rdf:RDF>\n",
       " </metadata>\n",
       " <defs>\n",
       "  <style type=\"text/css\">*{stroke-linejoin: round; stroke-linecap: butt}</style>\n",
       " </defs>\n",
       " <g id=\"figure_1\">\n",
       "  <g id=\"patch_1\">\n",
       "   <path d=\"M 0 180.72 \n",
       "L 341.674839 180.72 \n",
       "L 341.674839 0 \n",
       "L 0 0 \n",
       "z\n",
       "\" style=\"fill: #ffffff\"/>\n",
       "  </g>\n",
       "  <g id=\"axes_1\">\n",
       "   <g clip-path=\"url(#p2db2dfabcd)\">\n",
       "    <image xlink:href=\"data:image/png;base64,\n",
       "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\" id=\"image90d1ec38ca\" transform=\"scale(1 -1) translate(0 -166.32)\" x=\"7.2\" y=\"-7.2\" width=\"327.6\" height=\"166.32\"/>\n",
       "   </g>\n",
       "  </g>\n",
       " </g>\n",
       " <defs>\n",
       "  <clipPath id=\"p2db2dfabcd\">\n",
       "   <rect x=\"7.2\" y=\"7.2\" width=\"327.274839\" height=\"166.32\"/>\n",
       "  </clipPath>\n",
       " </defs>\n",
       "</svg>\n"
      ],
      "text/plain": [
       "<Figure size 600x300 with 1 Axes>"
      ]
     },
     "metadata": {},
     "output_type": "display_data"
    }
   ],
   "source": [
    "show_imgs([train_set[i][0] for i in range(8)])"
   ]
  },
  {
   "cell_type": "markdown",
   "metadata": {},
   "source": [
    "### NORMALIZING FLOWS"
   ]
  },
  {
   "cell_type": "markdown",
   "metadata": {},
   "source": [
    "Modelos generativos como los VAE y las redes GAN no aprenden explícitamente la función de densidad de los datos. \n",
    "\n",
    "Los normalizing flows modelan la verdadera distribución de datos y proporciona una estimación exacta de la verosimilitud (likelihood)."
   ]
  },
  {
   "attachments": {
    "image.png": {
     "image/png": "[encoded data removed]"
    }
   },
   "cell_type": "markdown",
   "metadata": {},
   "source": [
    "La principal diferencia con respecto a los VAE es que los flows utilizan funciones invertibles para convertir los datos de entrada a una representación latente z. \n",
    "\n",
    "z aquí tiene la misma dimensionalidad que los datos de entrada, a diferencia de los VAE, que reducen la dimensionalidad. La ventaja de esto es que al ser un mapeo invertible se pueden reconstruir los datos a partir de la representación latente sin ningún tipo de pérdida.\n",
    "\n",
    "![image.png](attachment:image.png)"
   ]
  },
  {
   "cell_type": "markdown",
   "metadata": {},
   "source": [
    "En este ejemplo queremos construir un normalizing flow que mapee una imagen de entrada a un espacio latente de igual tamaño:\n",
    "\n",
    "![image-2.png](https://github.com/Lightning-AI/lightning-tutorials/raw/main/course_UvA-DL/09-normalizing-flows/image_to_gaussian.svg)"
   ]
  },
  {
   "cell_type": "markdown",
   "metadata": {},
   "source": [
    "Como primer paso, implementaremos una plantilla de un normalizing flow en PyTorch Lightning. Durante entrenamiento y validación, un normalizing flow realiza una estimación de la densidad hacia adelante. Para ello, se aplican una serie de transformaciones sobre la entrada y se estima la probabilidad de la entrada determinando la probabilidad del punto z transformado dado un prior, y el cambio de volumen causado por las transformaciones. Durante la inferencia, se puede realizar tanto la estimación de la densidad como el muestreo de nuevos puntos invirtiendo las transformaciones. Por tanto, definimos una función *_get_likelihood* que realiza la estimación de la densidad, y *sample* para generar nuevos ejemplos. Las funciones training_step, validation_step y test_step utilizan _get_likelihood."
   ]
  },
  {
   "cell_type": "code",
   "execution_count": 6,
   "metadata": {},
   "outputs": [],
   "source": [
    "class ImageFlow(pl.LightningModule):\n",
    "    def __init__(self, flows, import_samples=8):\n",
    "        \"\"\"ImageFlow.\n",
    "\n",
    "        Args:\n",
    "            flows: Lista de flows (each a nn.Module) que deben aplicarse.\n",
    "            import_samples: Número de muestras de importancia a utilizar en test.\n",
    "\n",
    "        \"\"\"\n",
    "        super().__init__()\n",
    "        self.flows = nn.ModuleList(flows)\n",
    "        self.import_samples = import_samples\n",
    "        # distribución a priori para el espacio latente final\n",
    "        self.prior = torch.distributions.normal.Normal(loc=0.0, scale=1.0)\n",
    "        # Ejemplo de entrada para visualizar el grafo\n",
    "        self.example_input_array = train_set[0][0].unsqueeze(dim=0)\n",
    "\n",
    "    def forward(self, imgs):\n",
    "        # La función hacia adelante sólo se utiliza para visualizar el grafo\n",
    "        return self._get_likelihood(imgs)\n",
    "\n",
    "    def encode(self, imgs):\n",
    "        # Dado un batch de imágenes, devuelve la representación latente z y ldj de las transformaciones\n",
    "        # LDJ: Log-Determinant of the Jacobian: La matriz jacobiana representa las derivadas parciales de las funciones de transformación\n",
    "        z, ldj = imgs, torch.zeros(imgs.shape[0], device=self.device)\n",
    "        for flow in self.flows:\n",
    "            z, ldj = flow(z, ldj, reverse=False)\n",
    "        return z, ldj\n",
    "\n",
    "    def _get_likelihood(self, imgs, return_ll=False):\n",
    "        \"\"\"Dado un batch de imágenes, devolver su likelihood.\n",
    "\n",
    "        Si return_ll es True, esta función devuelve la log likelihood de la entrada. \n",
    "        En caso contrario, la métrica de salida es bits por dimensión (probabilidad logarítmica negativa escalada)\n",
    "\n",
    "        \"\"\"\n",
    "        z, ldj = self.encode(imgs)\n",
    "        log_pz = self.prior.log_prob(z).sum(dim=[1, 2, 3])\n",
    "        log_px = ldj + log_pz\n",
    "        nll = -log_px\n",
    "        # BPD: bits por dimensión\n",
    "        bpd = nll * np.log2(np.exp(1)) / np.prod(imgs.shape[1:])\n",
    "        return bpd.mean() if not return_ll else log_px\n",
    "\n",
    "    @torch.no_grad()\n",
    "    def sample(self, img_shape, z_init=None):\n",
    "        \"\"\"Muestreo de un batch del flujo.\"\"\"\n",
    "        # Sampleo del prior en el espacio latente\n",
    "        if z_init is None:\n",
    "            z = self.prior.sample(sample_shape=img_shape).to(device)\n",
    "        else:\n",
    "            z = z_init.to(device)\n",
    "\n",
    "        # Transformar z en x invirtiendo los flujos\n",
    "        ldj = torch.zeros(img_shape[0], device=device)\n",
    "        for flow in reversed(self.flows):\n",
    "            z, ldj = flow(z, ldj, reverse=True)\n",
    "        return z\n",
    "\n",
    "    def configure_optimizers(self):\n",
    "        optimizer = optim.Adam(self.parameters(), lr=1e-3)\n",
    "        scheduler = optim.lr_scheduler.StepLR(optimizer, 1, gamma=0.99)\n",
    "        return [optimizer], [scheduler]\n",
    "\n",
    "    def training_step(self, batch, batch_idx):\n",
    "        # Los Normalizing flows se entrenan por maximum likelihood => retornar bpd\n",
    "        loss = self._get_likelihood(batch[0])\n",
    "        self.log(\"train_bpd\", loss)\n",
    "        return loss\n",
    "\n",
    "    def validation_step(self, batch, batch_idx):\n",
    "        loss = self._get_likelihood(batch[0])\n",
    "        self.log(\"val_bpd\", loss)\n",
    "\n",
    "    def test_step(self, batch, batch_idx):\n",
    "        # Muestreo de importancia durante test => estimar la probabilidad M veces para cada imagen\n",
    "        samples = []\n",
    "        for _ in range(self.import_samples):\n",
    "            img_ll = self._get_likelihood(batch[0], return_ll=True)\n",
    "            samples.append(img_ll)\n",
    "        img_ll = torch.stack(samples, dim=-1)\n",
    "\n",
    "        # Para promediar las probabilidades, tenemos que pasar del espacio logarítmico al exp, y de nuevo al logarítmico.\n",
    "        # Logsumexp proporciona una implementación para esto\n",
    "        img_ll = torch.logsumexp(img_ll, dim=-1) - np.log(self.import_samples)\n",
    "\n",
    "        # Calcular el bpd final\n",
    "        bpd = -img_ll * np.log2(np.exp(1)) / np.prod(batch[0].shape[1:])\n",
    "        bpd = bpd.mean()\n",
    "\n",
    "        self.log(\"test_bpd\", bpd)"
   ]
  },
  {
   "cell_type": "markdown",
   "metadata": {},
   "source": [
    "La métrica estándar utilizada en los modelos generativos, y en particular en los normalizing flows, es bits por dimensión (bpd). Este enfoque está motivado desde una perspectiva de teoría de la información - describe cuántos bits necesitaríamos para codificar un sample concreto en nuestra distribución modelada. \n",
    "\n",
    "Cuantos menos bits se necesiten, más probable será el sample en nuestra distribución. Cuando comprobamos los bits por dimensión en el conjunto de test, podemos juzgar si nuestro modelo generaliza a nuevas muestras del conjunto de datos y no memorizó el conjunto de datos de entrenamiento. Para calcular la puntuación de bits por dimensión, podemos basarnos en la log-verosimilitud negativa y cambiar la base logarítmica (ya que los bits son binarios mientras que la NLL suele ser exponencial).\n",
    "\n",
    "En el espacio de la imagen original, las imágenes de MNIST tienen una puntuación de bits por dimensión de 8 (necesitamos 8 bits para codificar cada píxel, ya que hay 256 valores posibles)."
   ]
  },
  {
   "cell_type": "markdown",
   "metadata": {},
   "source": [
    "**Decuantizacion**"
   ]
  },
  {
   "cell_type": "markdown",
   "metadata": {},
   "source": [
    "- TO-DO: Explicar para qué se utiliza la decuantización"
   ]
  },
  {
   "cell_type": "code",
   "execution_count": 7,
   "metadata": {},
   "outputs": [],
   "source": [
    "class Dequantization(nn.Module):\n",
    "    def __init__(self, alpha=1e-5, quants=256):\n",
    "        \"\"\"Dequantization.\n",
    "\n",
    "        Args:\n",
    "            alpha: pequeña constante que se utiliza para escalar la entrada original. \n",
    "            Previene tratar con valores muy cercanos a 0 y 1 al invertir la sigmoide.\n",
    "            quants: Número de valores discretos posibles (normalmente 256 para una imagen de 8 bits)\n",
    "\n",
    "        \"\"\"\n",
    "        super().__init__()\n",
    "        self.alpha = alpha\n",
    "        self.quants = quants\n",
    "\n",
    "    def forward(self, z, ldj, reverse=False):\n",
    "        if not reverse:\n",
    "            z, ldj = self.dequant(z, ldj)\n",
    "            z, ldj = self.sigmoid(z, ldj, reverse=True)\n",
    "        else:\n",
    "            z, ldj = self.sigmoid(z, ldj, reverse=False)\n",
    "            z = z * self.quants\n",
    "            ldj += np.log(self.quants) * np.prod(z.shape[1:])\n",
    "            z = torch.floor(z).clamp(min=0, max=self.quants - 1).to(torch.int32)\n",
    "        return z, ldj\n",
    "\n",
    "    def sigmoid(self, z, ldj, reverse=False):\n",
    "        # Aplica una transformación sigmoidea invertible\n",
    "        if not reverse:\n",
    "            ldj += (-z - 2 * F.softplus(-z)).sum(dim=[1, 2, 3])\n",
    "            z = torch.sigmoid(z)\n",
    "        else:\n",
    "            z = z * (1 - self.alpha) + 0.5 * self.alpha  # Scale to prevent boundaries 0 and 1\n",
    "            ldj += np.log(1 - self.alpha) * np.prod(z.shape[1:])\n",
    "            ldj += (-torch.log(z) - torch.log(1 - z)).sum(dim=[1, 2, 3])\n",
    "            z = torch.log(z) - torch.log(1 - z)\n",
    "        return z, ldj\n",
    "\n",
    "    def dequant(self, z, ldj):\n",
    "        # Transforma valores discretos en volúmenes continuos\n",
    "        z = z.to(torch.float32)\n",
    "        z = z + torch.rand_like(z).detach()\n",
    "        z = z / self.quants\n",
    "        ldj -= np.log(self.quants) * np.prod(z.shape[1:])\n",
    "        return z, ldj"
   ]
  },
  {
   "cell_type": "code",
   "execution_count": 8,
   "metadata": {},
   "outputs": [],
   "source": [
    "class VariationalDequantization(Dequantization):\n",
    "    def __init__(self, var_flows, alpha=1e-5):\n",
    "        \"\"\"Variational Dequantization.\n",
    "\n",
    "        Args:\n",
    "            var_flows: lista de transformaciones que se utilizarán para modelar q(u|x)\n",
    "\n",
    "        \"\"\"\n",
    "        super().__init__(alpha=alpha)\n",
    "        self.flows = nn.ModuleList(var_flows)\n",
    "\n",
    "    def dequant(self, z, ldj):\n",
    "        z = z.to(torch.float32)\n",
    "        img = (z / 255.0) * 2 - 1  # Condicionamos los flujos a x, es decir, a la imagen original\n",
    "\n",
    "        # Prior de u es una distribución uniforme como antes\n",
    "        # Como la mayoría de las transformaciones de flujo se definen en [-infinito,+infinito], aplicamos primero una sigmoidea inversa\n",
    "        deq_noise = torch.rand_like(z).detach()\n",
    "        deq_noise, ldj = self.sigmoid(deq_noise, ldj, reverse=True)\n",
    "        for flow in self.flows:\n",
    "            deq_noise, ldj = flow(deq_noise, ldj, reverse=False, orig_img=img)\n",
    "        deq_noise, ldj = self.sigmoid(deq_noise, ldj, reverse=False)\n",
    "\n",
    "        # Después de los flows, aplicar u como en la descuantización estándar\n",
    "        z = (z + deq_noise) / 256.0\n",
    "        ldj -= np.log(256.0) * np.prod(z.shape[1:])\n",
    "        return z, ldj"
   ]
  },
  {
   "cell_type": "markdown",
   "metadata": {},
   "source": [
    "**Capas coupling**"
   ]
  },
  {
   "cell_type": "markdown",
   "metadata": {},
   "source": [
    "- TO-DO: explicar para qué y cómo se utilizan las capas coupling"
   ]
  },
  {
   "cell_type": "code",
   "execution_count": 9,
   "metadata": {},
   "outputs": [],
   "source": [
    "class CouplingLayer(nn.Module):\n",
    "    def __init__(self, network, mask, c_in):\n",
    "        \"\"\"Coupling layer en un normalizing flow.\n",
    "\n",
    "        Args:\n",
    "            network: A PyTorch nn.Module que modela mu y sigma. \n",
    "            La shape de salida debe ser el doble del tamaño del canal que la entrada.\n",
    "            mask: Máscara binaria (0 o 1) donde 0 denota que el elemento debe ser transformado, \n",
    "            mientras que 1 significa que el latente será utilizado como entrada a la red.\n",
    "            c_in: Número de canales de entrada\n",
    "\n",
    "        \"\"\"\n",
    "        super().__init__()\n",
    "        self.network = network\n",
    "        self.scaling_factor = nn.Parameter(torch.zeros(c_in))\n",
    "        # Registra la máscara como buffer ya que es un tensor que no es un parámetro,\n",
    "        # sino que debe formar parte del estado de los módulos.\n",
    "        self.register_buffer(\"mask\", mask)\n",
    "\n",
    "    def forward(self, z, ldj, reverse=False, orig_img=None):\n",
    "        \"\"\"Forward.\n",
    "\n",
    "        Args:\n",
    "            z: Entrada latente al flow\n",
    "            ldj:\n",
    "                El ldj actual de los flows anteriores. El ldj de esta capa se añadirá a este tensor.\n",
    "            reverse: Si es True, se aplica la inversa de la capa.\n",
    "            orig_img:\n",
    "                Sólo se necesita en VarDeq. Permite condicionar el flow a una entrada externa (por ejemplo, la imagen original).\n",
    "\n",
    "        \"\"\"\n",
    "        # Aplicar la red a la entrada enmascarada\n",
    "        z_in = z * self.mask\n",
    "        if orig_img is None:\n",
    "            nn_out = self.network(z_in)\n",
    "        else:\n",
    "            nn_out = self.network(torch.cat([z_in, orig_img], dim=1))\n",
    "        s, t = nn_out.chunk(2, dim=1)\n",
    "\n",
    "        # Estabilizar la salida de escala\n",
    "        s_fac = self.scaling_factor.exp().view(1, -1, 1, 1)\n",
    "        s = torch.tanh(s / s_fac) * s_fac\n",
    "\n",
    "        # Salidas de máscara (sólo transformar la segunda parte)\n",
    "        s = s * (1 - self.mask)\n",
    "        t = t * (1 - self.mask)\n",
    "\n",
    "        # Transformación Affine\n",
    "        if not reverse:\n",
    "            # Ya sea que primero cambiemos y luego escalemos, o al revés, \n",
    "            # es una elección de diseño, y por lo general no tiene un gran impacto\n",
    "            z = (z + t) * torch.exp(s)\n",
    "            ldj += s.sum(dim=[1, 2, 3])\n",
    "        else:\n",
    "            z = (z * torch.exp(-s)) - t\n",
    "            ldj -= s.sum(dim=[1, 2, 3])\n",
    "\n",
    "        return z, ldj"
   ]
  },
  {
   "cell_type": "markdown",
   "metadata": {},
   "source": [
    "**Red neuronal a aplicar en las capas coupling**"
   ]
  },
  {
   "cell_type": "code",
   "execution_count": 10,
   "metadata": {},
   "outputs": [],
   "source": [
    "class ConcatELU(nn.Module):\n",
    "    \"\"\"Activation function that applies ELU in both direction (inverted and plain).\n",
    "\n",
    "    Allows non-linearity while providing strong gradients for any input (important for final convolution)\n",
    "\n",
    "    \"\"\"\n",
    "\n",
    "    def forward(self, x):\n",
    "        return torch.cat([F.elu(x), F.elu(-x)], dim=1)\n",
    "\n",
    "\n",
    "class LayerNormChannels(nn.Module):\n",
    "    def __init__(self, c_in, eps=1e-5):\n",
    "        \"\"\"This module applies layer norm across channels in an image.\n",
    "\n",
    "        Args:\n",
    "            c_in: Number of channels of the input\n",
    "            eps: Small constant to stabilize std\n",
    "\n",
    "        \"\"\"\n",
    "        super().__init__()\n",
    "        self.gamma = nn.Parameter(torch.ones(1, c_in, 1, 1))\n",
    "        self.beta = nn.Parameter(torch.zeros(1, c_in, 1, 1))\n",
    "        self.eps = eps\n",
    "\n",
    "    def forward(self, x):\n",
    "        mean = x.mean(dim=1, keepdim=True)\n",
    "        var = x.var(dim=1, unbiased=False, keepdim=True)\n",
    "        y = (x - mean) / torch.sqrt(var + self.eps)\n",
    "        y = y * self.gamma + self.beta\n",
    "        return y\n",
    "\n",
    "\n",
    "class GatedConv(nn.Module):\n",
    "    def __init__(self, c_in, c_hidden):\n",
    "        \"\"\"This module applies a two-layer convolutional ResNet block with input gate.\n",
    "\n",
    "        Args:\n",
    "            c_in: Number of channels of the input\n",
    "            c_hidden: Number of hidden dimensions we want to model (usually similar to c_in)\n",
    "\n",
    "        \"\"\"\n",
    "        super().__init__()\n",
    "        self.net = nn.Sequential(\n",
    "            ConcatELU(),\n",
    "            nn.Conv2d(2 * c_in, c_hidden, kernel_size=3, padding=1),\n",
    "            ConcatELU(),\n",
    "            nn.Conv2d(2 * c_hidden, 2 * c_in, kernel_size=1),\n",
    "        )\n",
    "\n",
    "    def forward(self, x):\n",
    "        out = self.net(x)\n",
    "        val, gate = out.chunk(2, dim=1)\n",
    "        return x + val * torch.sigmoid(gate)\n",
    "\n",
    "\n",
    "class GatedConvNet(nn.Module):\n",
    "    def __init__(self, c_in, c_hidden=32, c_out=-1, num_layers=3):\n",
    "        \"\"\"Module that summarizes the previous blocks to a full convolutional neural network.\n",
    "\n",
    "        Args:\n",
    "            c_in: Number of input channels\n",
    "            c_hidden: Number of hidden dimensions to use within the network\n",
    "            c_out: Number of output channels. If -1, 2 times the input channels are used (affine coupling)\n",
    "            num_layers: Number of gated ResNet blocks to apply\n",
    "\n",
    "        \"\"\"\n",
    "        super().__init__()\n",
    "        c_out = c_out if c_out > 0 else 2 * c_in\n",
    "        layers = []\n",
    "        layers += [nn.Conv2d(c_in, c_hidden, kernel_size=3, padding=1)]\n",
    "        for layer_index in range(num_layers):\n",
    "            layers += [GatedConv(c_hidden, c_hidden), LayerNormChannels(c_hidden)]\n",
    "        layers += [ConcatELU(), nn.Conv2d(2 * c_hidden, c_out, kernel_size=3, padding=1)]\n",
    "        self.nn = nn.Sequential(*layers)\n",
    "\n",
    "        self.nn[-1].weight.data.zero_()\n",
    "        self.nn[-1].bias.data.zero_()\n",
    "\n",
    "    def forward(self, x):\n",
    "        return self.nn(x)"
   ]
  },
  {
   "cell_type": "markdown",
   "metadata": {},
   "source": [
    "**Arquitectura final**\n",
    "\n",
    "![image.png](https://github.com/Lightning-AI/lightning-tutorials/raw/main/course_UvA-DL/09-normalizing-flows/vanilla_flow.svg)"
   ]
  },
  {
   "cell_type": "markdown",
   "metadata": {},
   "source": [
    "### ENTRENAMIENTO"
   ]
  },
  {
   "cell_type": "code",
   "execution_count": 11,
   "metadata": {},
   "outputs": [],
   "source": [
    "def create_simple_flow(use_vardeq=True):\n",
    "    flow_layers = []\n",
    "    if use_vardeq:\n",
    "        vardeq_layers = [\n",
    "            CouplingLayer(\n",
    "                network=GatedConvNet(c_in=2, c_out=2, c_hidden=16),\n",
    "                mask=create_checkerboard_mask(h=28, w=28, invert=(i % 2 == 1)),\n",
    "                c_in=1,\n",
    "            )\n",
    "            for i in range(4)\n",
    "        ]\n",
    "        flow_layers += [VariationalDequantization(var_flows=vardeq_layers)]\n",
    "    else:\n",
    "        flow_layers += [Dequantization()]\n",
    "\n",
    "    for i in range(8):\n",
    "        flow_layers += [\n",
    "            CouplingLayer(\n",
    "                network=GatedConvNet(c_in=1, c_hidden=32),\n",
    "                mask=create_checkerboard_mask(h=28, w=28, invert=(i % 2 == 1)),\n",
    "                c_in=1,\n",
    "            )\n",
    "        ]\n",
    "\n",
    "    flow_model = ImageFlow(flow_layers).to(device)\n",
    "    return flow_model"
   ]
  },
  {
   "cell_type": "code",
   "execution_count": 12,
   "metadata": {},
   "outputs": [],
   "source": [
    "def train_flow(flow, model_name=\"MNISTFlow\"):\n",
    "    # PyTorch Lightning trainer\n",
    "    trainer = pl.Trainer(\n",
    "        default_root_dir=os.path.join(CHECKPOINT_PATH, model_name),\n",
    "        accelerator=\"auto\",\n",
    "        devices=1,\n",
    "        max_epochs=200,\n",
    "        gradient_clip_val=1.0,\n",
    "        callbacks=[\n",
    "            ModelCheckpoint(save_weights_only=True, mode=\"min\", monitor=\"val_bpd\"),\n",
    "            LearningRateMonitor(\"epoch\"),\n",
    "        ],\n",
    "    )\n",
    "    trainer.logger._log_graph = True\n",
    "    trainer.logger._default_hp_metric = None  # Optional logging argument that we don't need\n",
    "\n",
    "    train_data_loader = data.DataLoader(\n",
    "        train_set, batch_size=128, shuffle=True, drop_last=True, pin_memory=True, num_workers=8\n",
    "    )\n",
    "    result = None\n",
    "\n",
    "    # Comprueba si existe un modelo preentrenado. En caso afirmativo, se carga y se omite el entrenamiento\n",
    "    pretrained_filename = os.path.join(CHECKPOINT_PATH, model_name + \".ckpt\")\n",
    "    if os.path.isfile(pretrained_filename):\n",
    "        print(\"Found pretrained model, loading...\")\n",
    "        ckpt = torch.load(pretrained_filename, map_location=device)\n",
    "        flow.load_state_dict(ckpt[\"state_dict\"])\n",
    "        result = ckpt.get(\"result\", None)\n",
    "    else:\n",
    "        print(\"Start training\", model_name)\n",
    "        trainer.fit(flow, train_data_loader, val_loader)\n",
    "\n",
    "    # Probar el mejor modelo en el conjunto de validación y prueba si no se ha encontrado ningún resultado\n",
    "    if result is None:\n",
    "        val_result = trainer.test(flow, dataloaders=val_loader, verbose=False)\n",
    "        start_time = time.time()\n",
    "        test_result = trainer.test(flow, dataloaders=test_loader, verbose=False)\n",
    "        duration = time.time() - start_time\n",
    "        result = {\"test\": test_result, \"val\": val_result, \"time\": duration / len(test_loader) / flow.import_samples}\n",
    "\n",
    "    return flow, result"
   ]
  },
  {
   "cell_type": "markdown",
   "metadata": {},
   "source": [
    "Para no añadir más coste computacional cargamos modelos pre-entrenados"
   ]
  },
  {
   "cell_type": "code",
   "execution_count": 13,
   "metadata": {},
   "outputs": [
    {
     "name": "stderr",
     "output_type": "stream",
     "text": [
      "/home/zeus/miniconda3/envs/cloudspace/lib/python3.10/site-packages/torch/functional.py:507: UserWarning: torch.meshgrid: in an upcoming release, it will be required to pass the indexing argument. (Triggered internally at ../aten/src/ATen/native/TensorShape.cpp:3549.)\n",
      "  return _VF.meshgrid(tensors, **kwargs)  # type: ignore[attr-defined]\n",
      "GPU available: False, used: False\n",
      "TPU available: False, using: 0 TPU cores\n",
      "HPU available: False, using: 0 HPUs\n",
      "/home/zeus/miniconda3/envs/cloudspace/lib/python3.10/site-packages/torch/utils/data/dataloader.py:558: UserWarning: This DataLoader will create 8 worker processes in total. Our suggested max number of worker in current system is 4, which is smaller than what this DataLoader is going to create. Please be aware that excessive worker creation might get DataLoader running slow or even freeze, lower the worker number to avoid potential slowness/freeze if necessary.\n",
      "  warnings.warn(_create_warning_msg(\n",
      "GPU available: False, used: False\n",
      "TPU available: False, using: 0 TPU cores\n",
      "HPU available: False, using: 0 HPUs\n"
     ]
    },
    {
     "name": "stdout",
     "output_type": "stream",
     "text": [
      "Found pretrained model, loading...\n",
      "Found pretrained model, loading...\n"
     ]
    }
   ],
   "source": [
    "flow_dict = {\"simple\": {}, \"vardeq\": {}, \"multiscale\": {}}\n",
    "flow_dict[\"simple\"][\"model\"], flow_dict[\"simple\"][\"result\"] = train_flow(\n",
    "    create_simple_flow(use_vardeq=False), model_name=\"MNISTFlow_simple\"\n",
    ")\n",
    "flow_dict[\"vardeq\"][\"model\"], flow_dict[\"vardeq\"][\"result\"] = train_flow(\n",
    "    create_simple_flow(use_vardeq=True), model_name=\"MNISTFlow_vardeq\"\n",
    ")"
   ]
  },
  {
   "cell_type": "code",
   "execution_count": 14,
   "metadata": {},
   "outputs": [
    {
     "data": {
      "text/plain": [
       "{'simple': {'model': ImageFlow(\n",
       "    (flows): ModuleList(\n",
       "      (0): Dequantization()\n",
       "      (1-8): 8 x CouplingLayer(\n",
       "        (network): GatedConvNet(\n",
       "          (nn): Sequential(\n",
       "            (0): Conv2d(1, 32, kernel_size=(3, 3), stride=(1, 1), padding=(1, 1))\n",
       "            (1): GatedConv(\n",
       "              (net): Sequential(\n",
       "                (0): ConcatELU()\n",
       "                (1): Conv2d(64, 32, kernel_size=(3, 3), stride=(1, 1), padding=(1, 1))\n",
       "                (2): ConcatELU()\n",
       "                (3): Conv2d(64, 64, kernel_size=(1, 1), stride=(1, 1))\n",
       "              )\n",
       "            )\n",
       "            (2): LayerNormChannels()\n",
       "            (3): GatedConv(\n",
       "              (net): Sequential(\n",
       "                (0): ConcatELU()\n",
       "                (1): Conv2d(64, 32, kernel_size=(3, 3), stride=(1, 1), padding=(1, 1))\n",
       "                (2): ConcatELU()\n",
       "                (3): Conv2d(64, 64, kernel_size=(1, 1), stride=(1, 1))\n",
       "              )\n",
       "            )\n",
       "            (4): LayerNormChannels()\n",
       "            (5): GatedConv(\n",
       "              (net): Sequential(\n",
       "                (0): ConcatELU()\n",
       "                (1): Conv2d(64, 32, kernel_size=(3, 3), stride=(1, 1), padding=(1, 1))\n",
       "                (2): ConcatELU()\n",
       "                (3): Conv2d(64, 64, kernel_size=(1, 1), stride=(1, 1))\n",
       "              )\n",
       "            )\n",
       "            (6): LayerNormChannels()\n",
       "            (7): ConcatELU()\n",
       "            (8): Conv2d(64, 2, kernel_size=(3, 3), stride=(1, 1), padding=(1, 1))\n",
       "          )\n",
       "        )\n",
       "      )\n",
       "    )\n",
       "  ),\n",
       "  'result': {'test': [{'test_bpd': 1.07839834690094}],\n",
       "   'val': [{'test_bpd': 1.0798484086990356}],\n",
       "   'time': 0.019570968523147,\n",
       "   'samp_time': 0.017716965675354003}},\n",
       " 'vardeq': {'model': ImageFlow(\n",
       "    (flows): ModuleList(\n",
       "      (0): VariationalDequantization(\n",
       "        (flows): ModuleList(\n",
       "          (0-3): 4 x CouplingLayer(\n",
       "            (network): GatedConvNet(\n",
       "              (nn): Sequential(\n",
       "                (0): Conv2d(2, 16, kernel_size=(3, 3), stride=(1, 1), padding=(1, 1))\n",
       "                (1): GatedConv(\n",
       "                  (net): Sequential(\n",
       "                    (0): ConcatELU()\n",
       "                    (1): Conv2d(32, 16, kernel_size=(3, 3), stride=(1, 1), padding=(1, 1))\n",
       "                    (2): ConcatELU()\n",
       "                    (3): Conv2d(32, 32, kernel_size=(1, 1), stride=(1, 1))\n",
       "                  )\n",
       "                )\n",
       "                (2): LayerNormChannels()\n",
       "                (3): GatedConv(\n",
       "                  (net): Sequential(\n",
       "                    (0): ConcatELU()\n",
       "                    (1): Conv2d(32, 16, kernel_size=(3, 3), stride=(1, 1), padding=(1, 1))\n",
       "                    (2): ConcatELU()\n",
       "                    (3): Conv2d(32, 32, kernel_size=(1, 1), stride=(1, 1))\n",
       "                  )\n",
       "                )\n",
       "                (4): LayerNormChannels()\n",
       "                (5): GatedConv(\n",
       "                  (net): Sequential(\n",
       "                    (0): ConcatELU()\n",
       "                    (1): Conv2d(32, 16, kernel_size=(3, 3), stride=(1, 1), padding=(1, 1))\n",
       "                    (2): ConcatELU()\n",
       "                    (3): Conv2d(32, 32, kernel_size=(1, 1), stride=(1, 1))\n",
       "                  )\n",
       "                )\n",
       "                (6): LayerNormChannels()\n",
       "                (7): ConcatELU()\n",
       "                (8): Conv2d(32, 2, kernel_size=(3, 3), stride=(1, 1), padding=(1, 1))\n",
       "              )\n",
       "            )\n",
       "          )\n",
       "        )\n",
       "      )\n",
       "      (1-8): 8 x CouplingLayer(\n",
       "        (network): GatedConvNet(\n",
       "          (nn): Sequential(\n",
       "            (0): Conv2d(1, 32, kernel_size=(3, 3), stride=(1, 1), padding=(1, 1))\n",
       "            (1): GatedConv(\n",
       "              (net): Sequential(\n",
       "                (0): ConcatELU()\n",
       "                (1): Conv2d(64, 32, kernel_size=(3, 3), stride=(1, 1), padding=(1, 1))\n",
       "                (2): ConcatELU()\n",
       "                (3): Conv2d(64, 64, kernel_size=(1, 1), stride=(1, 1))\n",
       "              )\n",
       "            )\n",
       "            (2): LayerNormChannels()\n",
       "            (3): GatedConv(\n",
       "              (net): Sequential(\n",
       "                (0): ConcatELU()\n",
       "                (1): Conv2d(64, 32, kernel_size=(3, 3), stride=(1, 1), padding=(1, 1))\n",
       "                (2): ConcatELU()\n",
       "                (3): Conv2d(64, 64, kernel_size=(1, 1), stride=(1, 1))\n",
       "              )\n",
       "            )\n",
       "            (4): LayerNormChannels()\n",
       "            (5): GatedConv(\n",
       "              (net): Sequential(\n",
       "                (0): ConcatELU()\n",
       "                (1): Conv2d(64, 32, kernel_size=(3, 3), stride=(1, 1), padding=(1, 1))\n",
       "                (2): ConcatELU()\n",
       "                (3): Conv2d(64, 64, kernel_size=(1, 1), stride=(1, 1))\n",
       "              )\n",
       "            )\n",
       "            (6): LayerNormChannels()\n",
       "            (7): ConcatELU()\n",
       "            (8): Conv2d(64, 2, kernel_size=(3, 3), stride=(1, 1), padding=(1, 1))\n",
       "          )\n",
       "        )\n",
       "      )\n",
       "    )\n",
       "  ),\n",
       "  'result': {'test': [{'test_bpd': 1.0431419610977173}],\n",
       "   'val': [{'test_bpd': 1.0449033975601196}],\n",
       "   'time': 0.02636134301780895,\n",
       "   'samp_time': 0.0177651047706604}},\n",
       " 'multiscale': {}}"
      ]
     },
     "execution_count": 14,
     "metadata": {},
     "output_type": "execute_result"
    }
   ],
   "source": [
    "flow_dict"
   ]
  },
  {
   "cell_type": "markdown",
   "metadata": {},
   "source": [
    "### MODELADO DE LA DENSIDAD Y SAMPLING"
   ]
  },
  {
   "cell_type": "markdown",
   "metadata": {},
   "source": [
    "**Resultados en cuanto a estimación de densidad**"
   ]
  },
  {
   "cell_type": "code",
   "execution_count": 15,
   "metadata": {},
   "outputs": [],
   "source": [
    "table = [\n",
    "    [\n",
    "        key,\n",
    "        \"{:4.3f} bpd\".format(flow_dict[key][\"result\"][\"val\"][0][\"test_bpd\"]),\n",
    "        \"{:4.3f} bpd\".format(flow_dict[key][\"result\"][\"test\"][0][\"test_bpd\"]),\n",
    "        \"%2.0f ms\" % (1000 * flow_dict[key][\"result\"][\"time\"]),\n",
    "        \"%2.0f ms\" % (1000 * flow_dict[key][\"result\"].get(\"samp_time\", 0)),\n",
    "        \"{:,}\".format(sum(np.prod(p.shape) for p in flow_dict[key][\"model\"].parameters())),\n",
    "    ]\n",
    "    for key in flow_dict if \"result\" in flow_dict[key]\n",
    "]"
   ]
  },
  {
   "cell_type": "code",
   "execution_count": 16,
   "metadata": {},
   "outputs": [
    {
     "data": {
      "text/html": [
       "<table>\n",
       "<thead>\n",
       "<tr><th>Model  </th><th>Validation Bpd  </th><th>Test Bpd  </th><th>Inference time  </th><th>Sampling time  </th><th>Num Parameters  </th></tr>\n",
       "</thead>\n",
       "<tbody>\n",
       "<tr><td>simple </td><td>1.080 bpd       </td><td>1.078 bpd </td><td>20 ms           </td><td>18 ms          </td><td>556,312         </td></tr>\n",
       "<tr><td>vardeq </td><td>1.045 bpd       </td><td>1.043 bpd </td><td>26 ms           </td><td>18 ms          </td><td>628,388         </td></tr>\n",
       "</tbody>\n",
       "</table>"
      ],
      "text/plain": [
       "<IPython.core.display.HTML object>"
      ]
     },
     "metadata": {},
     "output_type": "display_data"
    }
   ],
   "source": [
    "display(\n",
    "    HTML(\n",
    "        tabulate.tabulate(\n",
    "            table,\n",
    "            tablefmt=\"html\",\n",
    "            headers=[\"Model\", \"Validation Bpd\", \"Test Bpd\", \"Inference time\", \"Sampling time\", \"Num Parameters\"],\n",
    "        )\n",
    "    )\n",
    ")"
   ]
  },
  {
   "cell_type": "markdown",
   "metadata": {},
   "source": [
    "Por lo que se ve en los resultados el uso de la descuantización variacional mejora a la descuantización estándar en términos de bits por dimensión. Aunque la diferencia con 0,04bpd no parece impresionante a primera vista, es un paso considerable para los modelos generativos (la mayoría de los modelos de última generación mejoran a los modelos anteriores en un rango de 0,02-0,1bpd)."
   ]
  },
  {
   "cell_type": "markdown",
   "metadata": {},
   "source": [
    "**Sampling**"
   ]
  },
  {
   "cell_type": "code",
   "execution_count": 17,
   "metadata": {},
   "outputs": [
    {
     "name": "stderr",
     "output_type": "stream",
     "text": [
      "Seed set to 44\n"
     ]
    },
    {
     "data": {
      "application/pdf": "[encoded data removed]",
      "image/svg+xml": [
       "<?xml version=\"1.0\" encoding=\"utf-8\" standalone=\"no\"?>\n",
       "<!DOCTYPE svg PUBLIC \"-//W3C//DTD SVG 1.1//EN\"\n",
       "  \"http://www.w3.org/Graphics/SVG/1.1/DTD/svg11.dtd\">\n",
       "<svg xmlns:xlink=\"http://www.w3.org/1999/xlink\" width=\"347.04pt\" height=\"347.04pt\" viewBox=\"0 0 347.04 347.04\" xmlns=\"http://www.w3.org/2000/svg\" version=\"1.1\">\n",
       " <metadata>\n",
       "  <rdf:RDF xmlns:dc=\"http://purl.org/dc/elements/1.1/\" xmlns:cc=\"http://creativecommons.org/ns#\" xmlns:rdf=\"http://www.w3.org/1999/02/22-rdf-syntax-ns#\">\n",
       "   <cc:Work>\n",
       "    <dc:type rdf:resource=\"http://purl.org/dc/dcmitype/StillImage\"/>\n",
       "    <dc:date>2024-10-05T19:20:22.640254</dc:date>\n",
       "    <dc:format>image/svg+xml</dc:format>\n",
       "    <dc:creator>\n",
       "     <cc:Agent>\n",
       "      <dc:title>Matplotlib v3.8.2, https://matplotlib.org/</dc:title>\n",
       "     </cc:Agent>\n",
       "    </dc:creator>\n",
       "   </cc:Work>\n",
       "  </rdf:RDF>\n",
       " </metadata>\n",
       " <defs>\n",
       "  <style type=\"text/css\">*{stroke-linejoin: round; stroke-linecap: butt}</style>\n",
       " </defs>\n",
       " <g id=\"figure_1\">\n",
       "  <g id=\"patch_1\">\n",
       "   <path d=\"M 0 347.04 \n",
       "L 347.04 347.04 \n",
       "L 347.04 -0 \n",
       "L 0 -0 \n",
       "z\n",
       "\" style=\"fill: #ffffff\"/>\n",
       "  </g>\n",
       "  <g id=\"axes_1\">\n",
       "   <g clip-path=\"url(#pc0c7bbddcc)\">\n",
       "    <image xlink:href=\"data:image/png;base64,\n",
       "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\" id=\"imagef0ddd4d941\" transform=\"scale(1 -1) translate(0 -333.36)\" x=\"7.2\" y=\"-6.48\" width=\"332.64\" height=\"333.36\"/>\n",
       "   </g>\n",
       "  </g>\n",
       " </g>\n",
       " <defs>\n",
       "  <clipPath id=\"pc0c7bbddcc\">\n",
       "   <rect x=\"7.2\" y=\"7.2\" width=\"332.64\" height=\"332.64\"/>\n",
       "  </clipPath>\n",
       " </defs>\n",
       "</svg>\n"
      ],
      "text/plain": [
       "<Figure size 600x600 with 1 Axes>"
      ]
     },
     "metadata": {},
     "output_type": "display_data"
    }
   ],
   "source": [
    "pl.seed_everything(44)\n",
    "samples = flow_dict[\"vardeq\"][\"model\"].sample(img_shape=[16, 1, 28, 28])\n",
    "show_imgs(samples.cpu())"
   ]
  },
  {
   "cell_type": "markdown",
   "metadata": {},
   "source": [
    "En este caso las muestras generadas distan mucho de ser perfectas. Aparentemente el modelo de sólo ha aprendido correlaciones locales y pequeñas."
   ]
  },
  {
   "cell_type": "markdown",
   "metadata": {},
   "source": [
    "- TO-DO: Explicar cómo se podría mejorar el modelo"
   ]
  }
 ],
 "metadata": {
  "kernelspec": {
   "display_name": "cloudspace",
   "language": "python",
   "name": "python3"
  },
  "language_info": {
   "codemirror_mode": {
    "name": "ipython",
    "version": 3
   },
   "file_extension": ".py",
   "mimetype": "text/x-python",
   "name": "python",
   "nbconvert_exporter": "python",
   "pygments_lexer": "ipython3",
   "version": "3.10.10"
  }
 },
 "nbformat": 4,
 "nbformat_minor": 2
}
